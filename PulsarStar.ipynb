{
 "cells": [
  {
   "cell_type": "code",
   "execution_count": 5,
   "metadata": {},
   "outputs": [],
   "source": [
    "#Importing Libraries\n",
    "import numpy as np\n",
    "import matplotlib.pyplot as plt\n",
    "import pandas as pd"
   ]
  },
  {
   "cell_type": "code",
   "execution_count": 48,
   "metadata": {},
   "outputs": [],
   "source": [
    "# import warnings filter\n",
    "from warnings import simplefilter\n",
    "# ignore all future warnings\n",
    "simplefilter(action='ignore', category=FutureWarning)"
   ]
  },
  {
   "cell_type": "code",
   "execution_count": 11,
   "metadata": {},
   "outputs": [],
   "source": [
    "#Importing the dataset\n",
    "dataset = pd.read_csv('pulsar_stars.csv')\n",
    "X = dataset.iloc[:, :-1].values #Independent vector\n",
    "Y = dataset.iloc[:, 8].values   #Dependent vector"
   ]
  },
  {
   "cell_type": "code",
   "execution_count": 24,
   "metadata": {},
   "outputs": [],
   "source": [
    "#Handling Missing data\n",
    "from sklearn.impute import SimpleImputer\n",
    "imputer = SimpleImputer(missing_values=np.nan, strategy='mean')\n",
    "imputer = imputer.fit(X[:, :])\n",
    "X[:, :] = imputer.transform(X[:, :])"
   ]
  },
  {
   "cell_type": "code",
   "execution_count": 26,
   "metadata": {},
   "outputs": [],
   "source": [
    "#Splitting the dataset into training and test set\n",
    "from sklearn.model_selection import train_test_split\n",
    "X_train, X_test, Y_train, Y_test = train_test_split(X, Y, test_size = 0.20, random_state=0)"
   ]
  },
  {
   "cell_type": "code",
   "execution_count": 28,
   "metadata": {},
   "outputs": [],
   "source": [
    "#Feature Scaling\n",
    "from sklearn.preprocessing import StandardScaler\n",
    "sc_X = StandardScaler()\n",
    "X_train = sc_X.fit_transform(X_train)\n",
    "X_test = sc_X.transform(X_test)"
   ]
  },
  {
   "cell_type": "code",
   "execution_count": 29,
   "metadata": {
    "collapsed": true
   },
   "outputs": [
    {
     "data": {
      "text/plain": [
       "GaussianNB(priors=None, var_smoothing=1e-09)"
      ]
     },
     "execution_count": 29,
     "metadata": {},
     "output_type": "execute_result"
    }
   ],
   "source": [
    "#Fitting Naive Bayes  to Training set\n",
    "from sklearn.naive_bayes import GaussianNB\n",
    "classifier_NB = GaussianNB()\n",
    "classifier_NB.fit(X_train, Y_train)"
   ]
  },
  {
   "cell_type": "code",
   "execution_count": 43,
   "metadata": {
    "collapsed": true
   },
   "outputs": [
    {
     "data": {
      "text/plain": [
       "SVC(C=1.0, cache_size=200, class_weight=None, coef0=0.0,\n",
       "    decision_function_shape='ovr', degree=3, gamma='auto', kernel='linear',\n",
       "    max_iter=-1, probability=False, random_state=0, shrinking=True, tol=0.001,\n",
       "    verbose=False)"
      ]
     },
     "execution_count": 43,
     "metadata": {},
     "output_type": "execute_result"
    }
   ],
   "source": [
    "#Fitting SVM to Training set\n",
    "from sklearn.svm import SVC\n",
    "classifier_SVM = SVC(kernel = 'linear', random_state = 0, gamma = 'auto')\n",
    "classifier_SVM.fit(X_train, Y_train)"
   ]
  },
  {
   "cell_type": "code",
   "execution_count": 33,
   "metadata": {
    "collapsed": true
   },
   "outputs": [
    {
     "data": {
      "text/plain": [
       "SVC(C=1.0, cache_size=200, class_weight=None, coef0=0.0,\n",
       "    decision_function_shape='ovr', degree=3, gamma='auto_deprecated',\n",
       "    kernel='rbf', max_iter=-1, probability=False, random_state=0,\n",
       "    shrinking=True, tol=0.001, verbose=False)"
      ]
     },
     "execution_count": 33,
     "metadata": {},
     "output_type": "execute_result"
    }
   ],
   "source": [
    "#Fitting Kernel SVM  to Training set\n",
    "from sklearn.svm import SVC\n",
    "classifier_KSVM = SVC(kernel='rbf', random_state = 0)\n",
    "classifier_KSVM.fit(X_train, Y_train)"
   ]
  },
  {
   "cell_type": "code",
   "execution_count": 34,
   "metadata": {
    "collapsed": true
   },
   "outputs": [
    {
     "data": {
      "text/plain": [
       "DecisionTreeClassifier(class_weight=None, criterion='entropy', max_depth=None,\n",
       "                       max_features=None, max_leaf_nodes=None,\n",
       "                       min_impurity_decrease=0.0, min_impurity_split=None,\n",
       "                       min_samples_leaf=1, min_samples_split=2,\n",
       "                       min_weight_fraction_leaf=0.0, presort=False,\n",
       "                       random_state=0, splitter='best')"
      ]
     },
     "execution_count": 34,
     "metadata": {},
     "output_type": "execute_result"
    }
   ],
   "source": [
    "#Fitting Decision Tree Classification  to Training set\n",
    "from sklearn.tree import DecisionTreeClassifier\n",
    "classifier_DT = DecisionTreeClassifier(criterion = 'entropy', random_state = 0)\n",
    "classifier_DT.fit(X_train, Y_train)"
   ]
  },
  {
   "cell_type": "code",
   "execution_count": 37,
   "metadata": {
    "collapsed": true
   },
   "outputs": [
    {
     "data": {
      "text/plain": [
       "RandomForestClassifier(bootstrap=True, class_weight=None, criterion='entropy',\n",
       "                       max_depth=None, max_features='auto', max_leaf_nodes=None,\n",
       "                       min_impurity_decrease=0.0, min_impurity_split=None,\n",
       "                       min_samples_leaf=1, min_samples_split=2,\n",
       "                       min_weight_fraction_leaf=0.0, n_estimators=10,\n",
       "                       n_jobs=None, oob_score=False, random_state=0, verbose=0,\n",
       "                       warm_start=False)"
      ]
     },
     "execution_count": 37,
     "metadata": {},
     "output_type": "execute_result"
    }
   ],
   "source": [
    "#Fitting Random Forest Classification  to Training set\n",
    "from sklearn.ensemble import RandomForestClassifier\n",
    "classifier_RFC = RandomForestClassifier(n_estimators = 10, criterion = 'entropy', random_state = 0)\n",
    "classifier_RFC.fit(X_train, Y_train)"
   ]
  },
  {
   "cell_type": "code",
   "execution_count": 44,
   "metadata": {},
   "outputs": [],
   "source": [
    "#Predicting the results\n",
    "Y_pred_NB = classifier_NB.predict(X_test)\n",
    "Y_pred_SVM = classifier_SVM.predict(X_test)\n",
    "Y_pred_KSVM = classifier_KSVM.predict(X_test)\n",
    "Y_pred_DT = classifier_DT.predict(X_test)\n",
    "Y_pred_RFC = classifier_RFC.predict(X_test)"
   ]
  },
  {
   "cell_type": "code",
   "execution_count": 53,
   "metadata": {},
   "outputs": [
    {
     "name": "stdout",
     "output_type": "stream",
     "text": [
      "Accuracy for Classification Models:\n",
      "Naive Bayes:  94.287 %\n",
      "Support Vector Machine:  97.807 %\n",
      "Kernel SVM:  97.758 %\n",
      "Decision Trees:  96.836 %\n",
      "Random Forest:  97.779 %\n"
     ]
    }
   ],
   "source": [
    "#Applying K-Fold Cross Validation\n",
    "from sklearn.model_selection import cross_val_score\n",
    "accuracies_NB = cross_val_score(estimator = classifier_NB, X = X_train, y = Y_train, cv = 10)\n",
    "accuracies_SVM = cross_val_score(estimator = classifier_SVM, X = X_train, y = Y_train, cv = 10)\n",
    "accuracies_KSVM = cross_val_score(estimator = classifier_KSVM, X = X_train, y = Y_train, cv = 10)\n",
    "accuracies_DT = cross_val_score(estimator = classifier_DT, X = X_train, y = Y_train, cv = 10)\n",
    "accuracies_RFC = cross_val_score(estimator = classifier_RFC, X = X_train, y = Y_train, cv = 10)\n",
    "\n",
    "print('Accuracy for Classification Models:')\n",
    "print('Naive Bayes: ',round(accuracies_NB.mean()*100,3), '%')\n",
    "print('Support Vector Machine: ',round(accuracies_SVM.mean()*100,3), '%')\n",
    "print('Kernel SVM: ',round(accuracies_KSVM.mean()*100,3), '%')\n",
    "print('Decision Trees: ',round(accuracies_DT.mean()*100,3), '%')\n",
    "print('Random Forest: ',round(accuracies_RFC.mean()*100,3), '%')"
   ]
  },
  {
   "cell_type": "code",
   "execution_count": 64,
   "metadata": {},
   "outputs": [
    {
     "name": "stdout",
     "output_type": "stream",
     "text": [
      "Precision: Naive Bayes 0.575\n",
      "Precision: Support Vector Machine 0.794\n",
      "Precision: Kernel SVM 0.791\n",
      "Precision: Decision Trees 0.686\n",
      "Precision: Random Forest 0.801\n"
     ]
    }
   ],
   "source": [
    "#Calculating Precision, Recall and F1 score\n",
    "from sklearn.metrics import average_precision_score\n",
    "from sklearn.metrics import recall_score\n",
    "from sklearn.metrics import f1_score\n",
    "\n",
    "average_precision_NB = average_precision_score(Y_test, Y_pred_NB)\n",
    "average_precision_SVM = average_precision_score(Y_test, Y_pred_SVM)\n",
    "average_precision_KSVM = average_precision_score(Y_test, Y_pred_KSVM)\n",
    "average_precision_DT = average_precision_score(Y_test, Y_pred_DT)\n",
    "average_precision_RFC = average_precision_score(Y_test, Y_pred_RFC)\n",
    "print('Precision: Naive Bayes',round(average_precision_NB,3))\n",
    "print('Precision: Support Vector Machine',round(average_precision_SVM,3))\n",
    "print('Precision: Kernel SVM',round(average_precision_KSVM,3))\n",
    "print('Precision: Decision Trees',round(average_precision_DT,3))\n",
    "print('Precision: Random Forest',round(average_precision_RFC,3))\n",
    "\n",
    "\n",
    "\n"
   ]
  },
  {
   "cell_type": "code",
   "execution_count": 65,
   "metadata": {},
   "outputs": [
    {
     "name": "stdout",
     "output_type": "stream",
     "text": [
      "Recall: Naive Bayes 0.915\n",
      "Recall: Support Vector Machine 0.917\n",
      "Recall: Kernel SVM 0.919\n",
      "Recall: Decision Trees 0.908\n",
      "Recall: Random Forest 0.921\n"
     ]
    }
   ],
   "source": [
    "recall_score_NB = recall_score(Y_test, Y_pred_NB, average='macro')\n",
    "recall_score_SVM = recall_score(Y_test, Y_pred_SVM, average='macro')\n",
    "recall_score_KSVM = recall_score(Y_test, Y_pred_KSVM, average='macro')\n",
    "recall_score_DT = recall_score(Y_test, Y_pred_DT, average='macro')\n",
    "recall_score_RFC = recall_score(Y_test, Y_pred_RFC, average='macro')\n",
    "print('Recall: Naive Bayes',round(recall_score_NB,3))\n",
    "print('Recall: Support Vector Machine',round(recall_score_SVM,3))\n",
    "print('Recall: Kernel SVM',round(recall_score_KSVM,3))\n",
    "print('Recall: Decision Trees',round(recall_score_DT,3))\n",
    "print('Recall: Random Forest',round(recall_score_RFC,3))"
   ]
  },
  {
   "cell_type": "code",
   "execution_count": 66,
   "metadata": {},
   "outputs": [
    {
     "name": "stdout",
     "output_type": "stream",
     "text": [
      "F1 Score: Naive Bayes 0.859\n",
      "F1 Score: Support Vector Machine 0.937\n",
      "F1 Score: Kernel SVM 0.936\n",
      "F1 Score: Decision Trees 0.903\n",
      "F1 Score: Random Forest 0.939\n"
     ]
    }
   ],
   "source": [
    "f1_score_NB = f1_score(Y_test, Y_pred_NB, average='macro')\n",
    "f1_score_SVM = f1_score(Y_test, Y_pred_SVM, average='macro')\n",
    "f1_score_KSVM = f1_score(Y_test, Y_pred_KSVM, average='macro')\n",
    "f1_score_DT = f1_score(Y_test, Y_pred_DT, average='macro')\n",
    "f1_score_RFC = f1_score(Y_test, Y_pred_RFC, average='macro')\n",
    "print('F1 Score: Naive Bayes',round(f1_score_NB,3))\n",
    "print('F1 Score: Support Vector Machine',round(f1_score_SVM,3))\n",
    "print('F1 Score: Kernel SVM',round(f1_score_KSVM,3))\n",
    "print('F1 Score: Decision Trees',round(f1_score_DT,3))\n",
    "print('F1 Score: Random Forest',round(f1_score_RFC,3))"
   ]
  }
 ],
 "metadata": {
  "kernelspec": {
   "display_name": "Python 3",
   "language": "python",
   "name": "python3"
  },
  "language_info": {
   "codemirror_mode": {
    "name": "ipython",
    "version": 3
   },
   "file_extension": ".py",
   "mimetype": "text/x-python",
   "name": "python",
   "nbconvert_exporter": "python",
   "pygments_lexer": "ipython3",
   "version": "3.7.4"
  }
 },
 "nbformat": 4,
 "nbformat_minor": 2
}
